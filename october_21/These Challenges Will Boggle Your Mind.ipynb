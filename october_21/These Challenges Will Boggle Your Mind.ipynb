{
 "cells": [
  {
   "cell_type": "markdown",
   "metadata": {},
   "source": [
    "October 21, 2016\n",
    "===\n",
    "\n",
    "## Riddler Express\n",
    "\n",
    "### Question\n",
    "*What is the longest word you can build in a game of Scrabble one letter at a time? That is, starting with a valid two-letter word, how long a word can you build by playing one letter at a time on either side to form a valid three-letter word, then a valid four-letter word, and so on? (For example, HE could become THE, then THEM, then THEME, then THEMES, for a six-letter result.)*\n",
    "\n",
    "### Solution\n",
    "We can determine whether any given word of length *n* is \"constructable\" by recursively testing each of its substrings of length *n-1*. We try each word in length order (longest to shortest) and stop when we've found one that can be constructed as in the question!"
   ]
  },
  {
   "cell_type": "code",
   "execution_count": 1,
   "metadata": {
    "collapsed": true
   },
   "outputs": [],
   "source": [
    "# Using the ENABLE list\n",
    "with open('boggle/yawl') as words:\n",
    "    wordlist = set(words.read().split())\n"
   ]
  },
  {
   "cell_type": "code",
   "execution_count": 2,
   "metadata": {
    "collapsed": false
   },
   "outputs": [
    {
     "name": "stdout",
     "output_type": "stream",
     "text": [
      "aspirated ['spirated', 'pirated', 'pirate', 'irate', 'rate', 'ate', 'te']\n",
      "glassiest ['glassies', 'lassies', 'lassie', 'lassi', 'lass', 'ass', 'as']\n",
      "ketamines ['etamines', 'tamines', 'amines', 'amine', 'amin', 'ami', 'mi']\n",
      "prelatess ['prelates', 'relates', 'elates', 'elate', 'late', 'ate', 'te']\n",
      "swashiest ['washiest', 'ashiest', 'shiest', 'shies', 'hies', 'hie', 'hi']\n",
      "cleansers ['cleanser', 'cleanse', 'cleans', 'leans', 'eans', 'ean', 'an']\n",
      "sheathers ['sheather', 'sheathe', 'sheath', 'heath', 'eath', 'eat', 'at']\n",
      "classisms ['classism', 'classis', 'lassis', 'lassi', 'lass', 'ass', 'as']\n",
      "whoopings ['whooping', 'hooping', 'ooping', 'oping', 'ping', 'pin', 'in']\n",
      "modernest ['modernes', 'moderne', 'modern', 'moder', 'mode', 'ode', 'de']\n",
      "strowings ['strowing', 'trowing', 'rowing', 'owing', 'wing', 'win', 'in']\n",
      "upraisers ['praisers', 'raisers', 'raiser', 'raise', 'rais', 'ais', 'is']\n",
      "relapsers ['relapser', 'relapse', 'elapse', 'lapse', 'laps', 'lap', 'la']\n",
      "washiness ['ashiness', 'shiness', 'shines', 'shine', 'shin', 'hin', 'in']\n",
      "scrapings ['scraping', 'craping', 'raping', 'aping', 'ping', 'pin', 'in']\n",
      "scoopings ['scooping', 'cooping', 'ooping', 'oping', 'ping', 'pin', 'in']\n",
      "islanders ['slanders', 'landers', 'lander', 'lande', 'land', 'and', 'an']\n",
      "canticoys ['canticoy', 'cantico', 'cantic', 'antic', 'anti', 'ant', 'an']\n",
      "sparkiest ['parkiest', 'parkies', 'parkie', 'parki', 'park', 'ark', 'ar']\n",
      "classists ['classist', 'classis', 'lassis', 'lassi', 'lass', 'ass', 'as']\n",
      "Solution: 9 letters\n"
     ]
    }
   ],
   "source": [
    "def is_constructable(word, wordlist, construction=[]):\n",
    "    if word in wordlist and len(word) == 2:\n",
    "        return construction\n",
    "    if word not in wordlist:\n",
    "        return False\n",
    "    return is_constructable(word[1:], wordlist, construction + [word[1:]]) or \\\n",
    "           is_constructable(word[:-1], wordlist, construction + [word[:-1]])\n",
    "\n",
    "longest = None\n",
    "for word in sorted(wordlist, key=len, reverse=True):\n",
    "    if longest is not None and len(word) < longest:\n",
    "        break\n",
    "    construction = is_constructable(word, wordlist)\n",
    "    if construction:\n",
    "        longest = len(word)\n",
    "        print word, construction\n",
    "print \"Solution: {} letters\".format(longest)"
   ]
  },
  {
   "cell_type": "markdown",
   "metadata": {},
   "source": [
    "## Riddler Classic\n",
    "\n",
    "### Question\n",
    "*What arrangement of any letters on a Boggle board has the most points attainable? Boggle is played with a 4-by-4 grid of letters. Points are scored by finding strings of letters — connected in any direction, horizontally, vertically or diagonally — that form valid words at least three letters long. Words 3, 4, 5, 6, 7 or 8 or more letters long score 1, 1, 2, 3, 5 and 11 points, respectively. (You can find the full [official rules here](http://www.hasbro.com/common/instruct/boggle.pdf).)*\n",
    "\n",
    "*Extra credit: What if you limit the hypothetical configurations to only those that are possible using the actual [letter cubes](http://www.bananagrammer.com/2013/10/the-boggle-cube-redesign-and-its-effect.html) included with the game?*\n",
    "\n",
    "### Solution\n",
    "\n",
    "See `boggle/optimize.cc`. Esentially, just start with a random board, modify it a little bit, and continue with the best variation most of the time. With small probability, switch to a different variation so we don't get stuck in local maxima.\n",
    "\n",
    "I used a modified version of the boggle solver from http://www.danvk.org/; many thanks to Dan!\n",
    "\n",
    "Best board so far (3623 points):\n",
    "\n",
    "    p l s t\n",
    "    e a i e\n",
    "    r t n r\n",
    "    s g e s\n",
    "\n",
    "note that this is *not* the best board when using larger dictionaries, like http://norvig.com/ngrams/word.list. \n",
    "\n",
    "While I can't prove that this is the best possible board, the program often sticks in some rotation of this board, so I imagine it might be.\n",
    "\n",
    "The best board I found using actual dice is the following (3623 points):\n",
    "\n",
    "    s r e t\n",
    "    e n i s\n",
    "    g t a l\n",
    "    s r e p\n",
    "    \n",
    "which happens to be a rotation of the best board above! The Boggle designers chose good letters.\n",
    "\n",
    "This board can be constructed using "
   ]
  },
  {
   "cell_type": "code",
   "execution_count": 25,
   "metadata": {
    "collapsed": false
   },
   "outputs": [],
   "source": [
    "letters = [# \"aaeegn\", \n",
    "           #\"abbjoo\", \n",
    "           #\"achops\", \n",
    "           # \"affkps\", \n",
    "           # \"aoottw\", \n",
    "           #\"cimotu\", \n",
    "           #\"deilrx\", \n",
    "           #\"delrvy\", \n",
    "           \"distty\", \n",
    "           \"eeghnw\", \n",
    "           #\"eeinsu\", \n",
    "           \"ehrtvw\", \n",
    "           \"eiosst\", \n",
    "           \"elrtty\", \n",
    "           \"himnuq\", \n",
    "           \"hlnnrz\"]\n",
    "\n",
    "board = \"plsteaiertnrsges\""
   ]
  },
  {
   "cell_type": "code",
   "execution_count": 27,
   "metadata": {
    "collapsed": false
   },
   "outputs": [
    {
     "name": "stdout",
     "output_type": "stream",
     "text": [
      "r ['ehrtvw', 'elrtty', 'hlnnrz']\n",
      "t ['distty', 'ehrtvw', 'eiosst', 'elrtty']\n",
      "n ['eeghnw', 'eeinsu', 'himnuq', 'hlnnrz']\n",
      "r ['ehrtvw', 'elrtty', 'hlnnrz']\n",
      "s ['distty', 'eeinsu', 'eiosst']\n",
      "g ['eeghnw']\n",
      "e ['eeghnw', 'eeinsu', 'ehrtvw', 'eiosst', 'elrtty']\n",
      "s ['distty', 'eeinsu', 'eiosst']\n"
     ]
    }
   ],
   "source": [
    "for b in board[8:]:\n",
    "    print b, [l for l in letters if b in l]"
   ]
  },
  {
   "cell_type": "code",
   "execution_count": null,
   "metadata": {
    "collapsed": true
   },
   "outputs": [],
   "source": []
  }
 ],
 "metadata": {
  "kernelspec": {
   "display_name": "Python 2",
   "language": "python",
   "name": "python2"
  },
  "language_info": {
   "codemirror_mode": {
    "name": "ipython",
    "version": 2
   },
   "file_extension": ".py",
   "mimetype": "text/x-python",
   "name": "python",
   "nbconvert_exporter": "python",
   "pygments_lexer": "ipython2",
   "version": "2.7.11"
  }
 },
 "nbformat": 4,
 "nbformat_minor": 1
}
